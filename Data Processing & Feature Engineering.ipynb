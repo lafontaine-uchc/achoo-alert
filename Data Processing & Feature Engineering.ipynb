{
 "cells": [
  {
   "cell_type": "code",
   "execution_count": null,
   "metadata": {},
   "outputs": [],
   "source": [
    "import pandas as pd\n",
    "import datetime as dt\n",
    "import numpy as np"
   ]
  },
  {
   "cell_type": "code",
   "execution_count": null,
   "metadata": {},
   "outputs": [],
   "source": [
    "def convert_F_to_C(temp):\n",
    "    return((temp-32)/1.8)"
   ]
  },
  {
   "cell_type": "code",
   "execution_count": null,
   "metadata": {},
   "outputs": [],
   "source": [
    "weather = pd.read_csv(\"./atlanta_weather_summary_1999-2019.csv\")\n",
    "#selects weather data from Atlanta Hartsfield International Airport\n",
    "airport_weather = weather.loc[weather['STATION'] == \"USW00013874\"]"
   ]
  },
  {
   "cell_type": "code",
   "execution_count": null,
   "metadata": {},
   "outputs": [],
   "source": [
    "airport_weather.PRCP.isna().sum()"
   ]
  },
  {
   "cell_type": "code",
   "execution_count": null,
   "metadata": {},
   "outputs": [],
   "source": [
    "airport_weather = airport_weather[['DATE','TMIN','TMAX','PRCP']]\n",
    "#interpolates to fill in 1 missing value for PRCP\n",
    "airport_weather = airport_weather.interpolate()\n",
    "airport_weather.PRCP.isna().sum()"
   ]
  },
  {
   "cell_type": "code",
   "execution_count": null,
   "metadata": {},
   "outputs": [],
   "source": [
    "airport_weather.loc[:,\"TCMAX\"] = convert_F_to_C(airport_weather.loc[:,\"TMAX\"])\n",
    "airport_weather.loc[:,\"TCMIN\"] = convert_F_to_C(airport_weather.loc[:,\"TMIN\"])\n",
    "#Calculates Growing Degree Days\n",
    "#(A measure of heat accumulation used by horticulturists\n",
    "# gardeners and farmers)\n",
    "airport_weather.loc[:,\"GDD\"] = (airport_weather.loc[:,\"TCMAX\"]+airport_weather.loc[:,\"TCMIN\"])/2-10"
   ]
  },
  {
   "cell_type": "code",
   "execution_count": null,
   "metadata": {},
   "outputs": [],
   "source": [
    "airport_weather.loc[airport_weather[\"GDD\"]<0,\"GDD\"] = 0"
   ]
  },
  {
   "cell_type": "code",
   "execution_count": null,
   "metadata": {},
   "outputs": [],
   "source": [
    "airport_weather.loc[:,\"DATE\"] =  pd.to_datetime(airport_weather.loc[:,\"DATE\"])"
   ]
  },
  {
   "cell_type": "code",
   "execution_count": null,
   "metadata": {},
   "outputs": [],
   "source": [
    "def add_gdd_sum(df, year):\n",
    "    #calculates cumulative growing degree days\n",
    "    #starting at Jan 1 each year\n",
    "    year_match_boolean_vector = df.loc[:,\"DATE\"].dt.year == year\n",
    "    df = df.loc[year_match_boolean_vector,:]\n",
    "    df.loc[:,'GDDSUM'] = df.loc[:,'GDD'].cumsum()\n",
    "    df.DATE.min()\n",
    "    return(df)\n",
    "train_weather = add_gdd_sum(airport_weather, 2000)\n",
    "for y in list(range(2001,2020)):\n",
    "    train_weather = train_weather.append(add_gdd_sum(airport_weather,y))\n",
    "\n",
    "train_weather.GDDSUM.plot()"
   ]
  },
  {
   "cell_type": "code",
   "execution_count": null,
   "metadata": {},
   "outputs": [],
   "source": [
    "def add_shifted_column(df,colname,shift_num):\n",
    "    # offset the time of a specified column\n",
    "    # filling in zeros in the beginning positions\n",
    "    # emptied by the offset\n",
    "    shifted_colname = colname + \"_shift\" + str(shift_num)\n",
    "    df.loc[:,shifted_colname] = df.loc[:,colname].shift(periods=shift_num, fill_value=0)\n",
    "    return(df)\n",
    "\n",
    "def add_shifted_group(train_weather, shift_num):\n",
    "    train_weather = add_shifted_column(train_weather,\"PRCP\",shift_num)\n",
    "    train_weather = add_shifted_column(train_weather,\"GDDSUM\",shift_num)\n",
    "    train_weather = add_shifted_column(train_weather,\"GDD\",shift_num)\n",
    "    train_weather = add_shifted_column(train_weather,\"TMIN\",shift_num)\n",
    "    train_weather = add_shifted_column(train_weather,\"TMAX\",shift_num)\n",
    "    return(train_weather)\n",
    "    \n",
    "train_weather = add_shifted_group(train_weather,7)\n",
    "train_weather = add_shifted_group(train_weather,14)    \n",
    "train_weather = add_shifted_group(train_weather,30)\n",
    "train_weather = add_shifted_group(train_weather,60)"
   ]
  },
  {
   "cell_type": "markdown",
   "metadata": {},
   "source": [
    "# Write Weather Training Data to weather.csv"
   ]
  },
  {
   "cell_type": "code",
   "execution_count": null,
   "metadata": {},
   "outputs": [],
   "source": [
    "train_weather.to_csv(\"./train_weather.csv\")"
   ]
  },
  {
   "cell_type": "markdown",
   "metadata": {},
   "source": [
    "# Pollen Data Processing"
   ]
  },
  {
   "cell_type": "code",
   "execution_count": null,
   "metadata": {},
   "outputs": [],
   "source": [
    "pollen = pd.read_csv(\"./atlanta_pollen_history.csv\")\n",
    "\n",
    "pollen = pollen.rename(columns={'date':'Date',\n",
    "                               'pcount':'Count'})\n",
    "pollen['Date']= pd.to_datetime(pollen['Date'])\n",
    "pollen= pollen.loc[:,['Date','Count']]"
   ]
  },
  {
   "cell_type": "code",
   "execution_count": null,
   "metadata": {},
   "outputs": [],
   "source": [
    "pollen['Doy'] = pollen[\"Date\"].dt.dayofyear\n",
    "pollen['Year'] = pollen[\"Date\"].dt.year"
   ]
  },
  {
   "cell_type": "code",
   "execution_count": null,
   "metadata": {},
   "outputs": [],
   "source": [
    "#trim pollen data by start and end date\n",
    "pollen = pollen[(pollen[\"Date\"].dt.year >= 2000) & (pollen[\"Date\"].dt.year <= 2019)]\n",
    "pollen = pollen[pollen[\"Date\"] <= dt.datetime.strptime(\"2019-06-19\",'%Y-%m-%d')]\n",
    "pollen_interpolated = pollen.interpolate()[pollen.interpolate().Count.notnull()]\n"
   ]
  },
  {
   "cell_type": "markdown",
   "metadata": {},
   "source": [
    "# Write pollen and pollen interpolated to csv files"
   ]
  },
  {
   "cell_type": "code",
   "execution_count": null,
   "metadata": {},
   "outputs": [],
   "source": [
    "pollen.to_csv(\"./pollen.csv\")\n",
    "pollen_interpolated.to_csv(\"./pollen_interpolated.csv\")"
   ]
  },
  {
   "cell_type": "markdown",
   "metadata": {},
   "source": [
    "# Create final data frames for analysis"
   ]
  },
  {
   "cell_type": "code",
   "execution_count": null,
   "metadata": {},
   "outputs": [],
   "source": [
    "final_data= pd.merge(pollen, train_weather, left_on='Date', right_on='DATE')\n",
    "final_data_interpolated = pd.merge(pollen_interpolated, train_weather, left_on='Date', right_on='DATE')"
   ]
  },
  {
   "cell_type": "markdown",
   "metadata": {},
   "source": [
    "# Write final data frames to csv"
   ]
  },
  {
   "cell_type": "code",
   "execution_count": null,
   "metadata": {},
   "outputs": [],
   "source": [
    "final_data.to_csv(\"./final_data.csv\")\n",
    "final_data_interpolated.to_csv(\"./final_data_interpolated.csv\")"
   ]
  }
 ],
 "metadata": {
  "kernelspec": {
   "display_name": "Python 3",
   "language": "python",
   "name": "python3"
  },
  "language_info": {
   "codemirror_mode": {
    "name": "ipython",
    "version": 3
   },
   "file_extension": ".py",
   "mimetype": "text/x-python",
   "name": "python",
   "nbconvert_exporter": "python",
   "pygments_lexer": "ipython3",
   "version": "3.7.3"
  }
 },
 "nbformat": 4,
 "nbformat_minor": 2
}
