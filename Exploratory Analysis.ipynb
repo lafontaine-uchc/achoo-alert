{
 "cells": [
  {
   "cell_type": "code",
   "execution_count": null,
   "metadata": {},
   "outputs": [],
   "source": [
    "import pandas as pd\n",
    "import datetime as dt\n",
    "import numpy as np\n",
    "#import matplotlib.pylab as plt"
   ]
  },
  {
   "cell_type": "code",
   "execution_count": null,
   "metadata": {},
   "outputs": [],
   "source": [
    "pollen = pd.read_csv(\"./pollen.csv\")\n",
    "pollen_interpolated = pd.read_csv(\"./pollen_interpolated.csv\")\n",
    "pollen.loc[:,\"Date\"] =  pd.to_datetime(pollen.loc[:,\"Date\"])\n",
    "pollen_interpolated.loc[:,\"Date\"] =  pd.to_datetime(pollen_interpolated.loc[:,\"Date\"])"
   ]
  },
  {
   "cell_type": "code",
   "execution_count": null,
   "metadata": {
    "scrolled": true
   },
   "outputs": [],
   "source": [
    "#Plot of pollen count over 20 years\n",
    "pollen.plot(x = \"Date\", y = \"Count\",kind = \"line\",figsize =(15,4))"
   ]
  },
  {
   "cell_type": "code",
   "execution_count": null,
   "metadata": {
    "scrolled": true
   },
   "outputs": [],
   "source": [
    "#Plot of interpolated pollen count over 20 years\n",
    "pollen_interpolated.plot(x = \"Date\", y = \"Count\",kind = \"line\",figsize =(15,4))"
   ]
  },
  {
   "cell_type": "code",
   "execution_count": null,
   "metadata": {},
   "outputs": [],
   "source": [
    "#Individual year plots of pollen data\n",
    "pollen.groupby(pollen[\"Date\"].dt.year).plot(kind=\"line\",figsize =(15,4),x = \"Date\", y = \"Count\")"
   ]
  },
  {
   "cell_type": "code",
   "execution_count": null,
   "metadata": {
    "scrolled": true
   },
   "outputs": [],
   "source": [
    "#Individual year plots of interpolated pollen data\n",
    "pollen_interpolated.groupby(pollen_interpolated[\"Date\"].dt.year).plot(kind=\"line\",figsize =(15,4),x = \"Date\", y = \"Count\")"
   ]
  },
  {
   "cell_type": "code",
   "execution_count": null,
   "metadata": {},
   "outputs": [],
   "source": [
    "pollen.dtypes"
   ]
  },
  {
   "cell_type": "markdown",
   "metadata": {},
   "source": [
    "# Visualization of the year to year shift of pollen season"
   ]
  },
  {
   "cell_type": "code",
   "execution_count": null,
   "metadata": {},
   "outputs": [],
   "source": [
    "def multi_year_plot(pollen,start_day,end_day,start_year,end_year):\n",
    "    pollen = pollen[pollen['Year'] <= end_year]\n",
    "    pollen = pollen[pollen['Year'] >= start_year]    \n",
    "    \n",
    "    \n",
    "    pollen = pollen[pollen['Doy'] <= end_day]\n",
    "    pollen = pollen[pollen['Doy'] >= start_day]\n",
    "    piv = pd.pivot_table(pollen, index=['Doy'],columns=['Year'], values=['Count'])    \n",
    "    ax = piv.plot(figsize =(9,3))\n",
    "    ax.set_xlabel(\"Day of Year\")\n",
    "    ax.set_ylabel(\"Pollen Count\")\n",
    "    ax.legend(title = \"\")\n",
    "\n",
    "def one_year_plot(pollen,start_day,end_day,year):\n",
    "    pollen['Doy'] = pollen[\"Date\"].dt.dayofyear\n",
    "    pollen['Year'] = pollen[\"Date\"].dt.year\n",
    "    pollen = pollen[pollen['Doy'] < end_day]\n",
    "    pollen = pollen[pollen['Doy'] > start_day]\n",
    "    pollen = pollen[pollen['Year'] == year]\n",
    "    piv = pd.pivot_table(pollen, index=['Doy'],columns=['Year'], values=['Count'])\n",
    "    \n",
    "\n",
    " \n",
    "    \n",
    "multi_year_plot(pollen,30,150, 2015,2019)\n",
    "multi_year_plot(pollen_interpolated,30,150,2015,2019)\n",
    "pollen_int_2016_2018 = ((pollen_interpolated.Year == 2018) | (pollen_interpolated.Year == 2016))\n",
    "multi_year_plot(pollen_interpolated[pollen_int_2016_2018],30,150,2015,2019)\n",
    "one_year_plot(pollen_interpolated,30,150, 2019)"
   ]
  },
  {
   "cell_type": "code",
   "execution_count": null,
   "metadata": {},
   "outputs": [],
   "source": []
  }
 ],
 "metadata": {
  "kernelspec": {
   "display_name": "Python 3",
   "language": "python",
   "name": "python3"
  },
  "language_info": {
   "codemirror_mode": {
    "name": "ipython",
    "version": 3
   },
   "file_extension": ".py",
   "mimetype": "text/x-python",
   "name": "python",
   "nbconvert_exporter": "python",
   "pygments_lexer": "ipython3",
   "version": "3.7.3"
  }
 },
 "nbformat": 4,
 "nbformat_minor": 2
}
