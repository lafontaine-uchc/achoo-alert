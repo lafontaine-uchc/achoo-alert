{
 "cells": [
  {
   "cell_type": "code",
   "execution_count": null,
   "metadata": {},
   "outputs": [],
   "source": [
    "import pandas as pd\n",
    "import datetime as dt\n",
    "import numpy as np\n",
    "import matplotlib.pylab as plt\n",
    "from fbprophet import Prophet\n",
    "import matplotlib.pyplot as pplt"
   ]
  },
  {
   "cell_type": "code",
   "execution_count": null,
   "metadata": {},
   "outputs": [],
   "source": [
    "final_data = pd.read_csv(\"./final_data.csv\")\n",
    "final_data_interpolated = pd.read_csv(\"./final_data_interpolated.csv\")\n",
    "final_data.loc[:,\"Date\"] =  pd.to_datetime(final_data[\"Date\"])\n",
    "final_data_interpolated.loc[:,\"Date\"] =  pd.to_datetime(final_data_interpolated[\"Date\"])"
   ]
  },
  {
   "cell_type": "code",
   "execution_count": null,
   "metadata": {},
   "outputs": [],
   "source": [
    "#sets cutoff date for training data as March 1st\n",
    "split_date = \"2019-03-01\"\n",
    "df_test = final_data\n",
    "df_test = df_test[df_test[\"Date\"] >= dt.datetime.strptime(\"2000-01-01\",'%Y-%m-%d')]\n",
    "df_test = df_test[df_test[\"Date\"] < dt.datetime.strptime(split_date,'%Y-%m-%d')]\n",
    "train = df_test\n",
    "train = train.rename(columns={'Date': 'ds', 'Count': 'y'})"
   ]
  },
  {
   "cell_type": "code",
   "execution_count": null,
   "metadata": {},
   "outputs": [],
   "source": [
    "m = Prophet(changepoint_prior_scale=0.05,yearly_seasonality=80, seasonality_mode='multiplicative')\n",
    "m.add_regressor('GDDSUM_shift60',mode='additive')\n",
    "#m.add_regressor('PRCP_shift60',mode='additive')\n",
    "m.fit(train)"
   ]
  },
  {
   "cell_type": "code",
   "execution_count": null,
   "metadata": {},
   "outputs": [],
   "source": [
    "#Creates forecast for 60 days after March 1st\n",
    "future = m.make_future_dataframe(periods=60)\n",
    "future = future.merge(final_data, left_on = 'ds', right_on = 'Date')\n",
    "forecast = m.predict(future)"
   ]
  },
  {
   "cell_type": "code",
   "execution_count": null,
   "metadata": {},
   "outputs": [],
   "source": [
    "fig1 = m.plot(forecast)"
   ]
  },
  {
   "cell_type": "code",
   "execution_count": null,
   "metadata": {
    "scrolled": true
   },
   "outputs": [],
   "source": [
    "fig2 = m.plot_components(forecast)"
   ]
  },
  {
   "cell_type": "code",
   "execution_count": null,
   "metadata": {},
   "outputs": [],
   "source": [
    "forecast_error = forecast.merge(final_data, left_on = 'ds', right_on = 'Date')[['ds', 'Count','yhat','Doy']]"
   ]
  },
  {
   "cell_type": "code",
   "execution_count": null,
   "metadata": {},
   "outputs": [],
   "source": [
    "forecast_error = forecast_error[forecast_error[\"ds\"] >= dt.datetime.strptime(\"2019-03-01\",'%Y-%m-%d')]\n",
    "forecast_error = forecast_error[forecast_error[\"ds\"] <= dt.datetime.strptime(\"2019-05-01\",'%Y-%m-%d')]"
   ]
  },
  {
   "cell_type": "code",
   "execution_count": null,
   "metadata": {},
   "outputs": [],
   "source": [
    "forecast_error['sq_error'] = (forecast_error.Count - forecast_error.yhat)**2"
   ]
  },
  {
   "cell_type": "code",
   "execution_count": null,
   "metadata": {},
   "outputs": [],
   "source": [
    "#trims off days outside of peak pollen season\n",
    "test_length_forecast = forecast_error.loc[(forecast_error[\"Doy\"]<=119) & (forecast_error[\"Doy\"]>59),\"sq_error\" ]\n",
    "fb_rmse = np.sqrt(test_length_forecast.mean())\n",
    "fb_rmse"
   ]
  },
  {
   "cell_type": "code",
   "execution_count": null,
   "metadata": {
    "scrolled": false
   },
   "outputs": [],
   "source": [
    "pplt.plot(forecast_error.ds, forecast_error.Count, '-', label='Count')\n",
    "pplt.plot(forecast_error.ds, forecast_error.yhat, '-', label='Forecast')\n",
    "pplt.legend(loc='best')\n",
    "pplt.show()"
   ]
  },
  {
   "cell_type": "code",
   "execution_count": null,
   "metadata": {},
   "outputs": [],
   "source": [
    "#Creates dataframe with years as columns\n",
    "simple_predictor = final_data.pivot(index='Doy', columns='Year', values='Count')\n",
    "simple_predictor.columns"
   ]
  },
  {
   "cell_type": "code",
   "execution_count": null,
   "metadata": {},
   "outputs": [],
   "source": [
    "#Calculates average 'naive' predictor and error for that predictor\n",
    "simple_predictor['avg_predictor_20'] = simple_predictor.drop(columns = [2019]).mean(axis=1)\n",
    "simple_predictor['sq_error_20'] = (simple_predictor.avg_predictor_20-simple_predictor[2019])**2"
   ]
  },
  {
   "cell_type": "code",
   "execution_count": null,
   "metadata": {},
   "outputs": [],
   "source": [
    "#trims off days outside of peak pollen season\n",
    "test_length_simple = simple_predictor.loc[(simple_predictor.index<=119) & (simple_predictor.index>59),\"sq_error_20\" ]\n",
    "fb_simp_rmse = np.sqrt(test_length_simple.mean())\n",
    "fb_simp_rmse"
   ]
  },
  {
   "cell_type": "code",
   "execution_count": null,
   "metadata": {},
   "outputs": [],
   "source": [
    "\n",
    "pplt.plot(forecast_error.Doy, forecast_error.Count, '-', label='Count')\n",
    "pplt.plot(forecast_error.Doy, forecast_error.yhat, '-', label='Forecast')\n",
    "pplt.plot(simple_predictor.index, simple_predictor.avg_predictor_20, '-', label='Simple')\n",
    "pplt.legend(loc='best')\n",
    "pplt.show()"
   ]
  },
  {
   "cell_type": "code",
   "execution_count": null,
   "metadata": {},
   "outputs": [],
   "source": [
    "  def individual_prediction_comparison_plot(forecast_error, simple_predictor, first_day, last_day):\n",
    "    forecast_error = forecast_error.loc[forecast_error.Doy <= last_day ,:]\n",
    "    forecast_error = forecast_error.loc[forecast_error.Doy >= first_day ,:]\n",
    "    simple_predictor = simple_predictor.loc[simple_predictor.index <= last_day ,:]\n",
    "    simple_predictor = simple_predictor.loc[simple_predictor.index >= first_day ,:]\n",
    "    \n",
    "    pplt.plot(forecast_error.Doy, forecast_error.Count, '-', label='Count')\n",
    "    pplt.plot(forecast_error.Doy, forecast_error.yhat, '-', label='Forecast')\n",
    "    pplt.plot(simple_predictor.index[simple_predictor.index<=last_day], simple_predictor.avg_predictor_20[simple_predictor.index<=last_day], '-', label='Simple')\n",
    "    pplt.legend(loc='best')\n",
    "    pplt.xlabel(\"Day of Year\")\n",
    "    pplt.ylabel(\"Pollen Count\")\n",
    "    pplt.legend(title = \"\")\n",
    "    pplt.show()\n",
    "\n",
    "individual_prediction_comparison_plot(forecast_error, simple_predictor, 40, 130)"
   ]
  }
 ],
 "metadata": {
  "kernelspec": {
   "display_name": "Python 3",
   "language": "python",
   "name": "python3"
  },
  "language_info": {
   "codemirror_mode": {
    "name": "ipython",
    "version": 3
   },
   "file_extension": ".py",
   "mimetype": "text/x-python",
   "name": "python",
   "nbconvert_exporter": "python",
   "pygments_lexer": "ipython3",
   "version": "3.7.3"
  }
 },
 "nbformat": 4,
 "nbformat_minor": 2
}
