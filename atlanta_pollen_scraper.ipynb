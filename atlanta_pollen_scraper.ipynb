{
 "cells": [
  {
   "cell_type": "markdown",
   "metadata": {},
   "source": [
    "# Pollen Data Scraper for City of Atlanta using BeautifulSoup"
   ]
  },
  {
   "cell_type": "code",
   "execution_count": null,
   "metadata": {},
   "outputs": [],
   "source": [
    "# Import libraries\n",
    "import time\n",
    "import requests\n",
    "from bs4 import BeautifulSoup\n",
    "import pandas as pd"
   ]
  },
  {
   "cell_type": "code",
   "execution_count": null,
   "metadata": {
    "scrolled": true
   },
   "outputs": [],
   "source": [
    "def url_builder(month, year):\n",
    "    url_base = 'http://www.atlantaallergy.com/pollen_counts/index/'\n",
    "    if month < 10:\n",
    "        url = url_base + str(year) + \"/0\" + str(month)\n",
    "    else:\n",
    "        url = url_base + str(year) + \"/\" + str(month)\n",
    "    print(url)\n",
    "    return(url)"
   ]
  },
  {
   "cell_type": "code",
   "execution_count": null,
   "metadata": {},
   "outputs": [],
   "source": [
    "def get_pollen_counts_from_x_to_y(first_year,last_year,first_month,last_month):\n",
    "    #Collects pollen counts data over range of years and months\n",
    "    #Iterate over the years\n",
    "    for y in list(range(first_year,last_year+1)):\n",
    "        #iterate over the months\n",
    "        for m in list(range(first_month,last_month+1)):\n",
    "            time.sleep(1)\n",
    "            url= url_builder(m,y)\n",
    "            page = requests.get(url)\n",
    "            soup = BeautifulSoup(page.text, 'html.parser')\n",
    "            month_item_list = soup.find(class_='calendar-body')\n",
    "            week_list = month_item_list.find(class_ = 'calendar-row')\n",
    "            day_list = month_item_list.find_all(class_ = 'calendar-day')\n",
    "\n",
    "\n",
    "            for day in day_list:\n",
    "            #     print(day.find(class_ = 'day-num').contents[0])\n",
    "            #     print(day.find(class_ = 'day-num').prettify())\n",
    "            #     print(day.find_all('a'))\n",
    "                a = day.find_all('a')\n",
    "                href = a[0].get('href')\n",
    "                date = href.replace(\"/pollen_counts/index/\", \"\")\n",
    "                pcount = list(a[0].children)\n",
    "                if len(pcount) == 1 :\n",
    "                    print(date, pcount[0])\n",
    "                    data.append([date, pcount[0]])\n",
    "                else:\n",
    "                    print(date, 'NA')\n",
    "                    data.append([date, \"NA\"])\n",
    "            print(str(m)+\"/\"+str(y))\n",
    "    return(data)"
   ]
  },
  {
   "cell_type": "code",
   "execution_count": null,
   "metadata": {},
   "outputs": [],
   "source": [
    "headers = [\"date\",\"pcount\"]\n",
    "data = []\n",
    "\n",
    "\n",
    "early_years_data = get_pollen_counts_from_x_to_y(1992,2018,1,12)\n",
    "#Add Pollen counts for 2019 up to July\n",
    "data_2019 = get_pollen_counts_from_x_to_y(2019,2019,1,7)\n",
    "data = early_years_data + data_2019"
   ]
  },
  {
   "cell_type": "code",
   "execution_count": null,
   "metadata": {},
   "outputs": [],
   "source": [
    "df = pd.DataFrame(data, columns=headers)\n",
    "#removes duplicates which result from end and beginning of month day overlap\n",
    "df.drop_duplicates().to_csv(\"./atlanta_pollen_history.csv\")"
   ]
  }
 ],
 "metadata": {
  "kernelspec": {
   "display_name": "Python 3",
   "language": "python",
   "name": "python3"
  },
  "language_info": {
   "codemirror_mode": {
    "name": "ipython",
    "version": 3
   },
   "file_extension": ".py",
   "mimetype": "text/x-python",
   "name": "python",
   "nbconvert_exporter": "python",
   "pygments_lexer": "ipython3",
   "version": "3.7.3"
  }
 },
 "nbformat": 4,
 "nbformat_minor": 2
}
